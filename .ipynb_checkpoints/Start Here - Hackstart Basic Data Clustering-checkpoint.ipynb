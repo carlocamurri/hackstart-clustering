{
 "cells": [
  {
   "cell_type": "code",
   "execution_count": 1,
   "metadata": {
    "collapsed": true
   },
   "outputs": [],
   "source": [
    "# import numpy here"
   ]
  },
  {
   "cell_type": "markdown",
   "metadata": {},
   "source": [
    "# Some utility functions that we will use later (don't worry about these)"
   ]
  },
  {
   "cell_type": "code",
   "execution_count": 2,
   "metadata": {
    "collapsed": true
   },
   "outputs": [],
   "source": [
    "import matplotlib.pyplot as plt\n",
    "from sklearn.datasets import load_iris"
   ]
  },
  {
   "cell_type": "code",
   "execution_count": 3,
   "metadata": {
    "collapsed": true
   },
   "outputs": [],
   "source": [
    "def plot_scatter(x1, x2, labels):\n",
    "    plt.figure(figsize=(10,6))\n",
    "    plt.scatter(x=x1, y=x2, c=labels, cmap=plt.cm.gist_rainbow)\n",
    "    plt.show()"
   ]
  },
  {
   "cell_type": "code",
   "execution_count": 4,
   "metadata": {
    "collapsed": true
   },
   "outputs": [],
   "source": [
    "def plot_centroids(x1, x2, centroids1, centroids2):\n",
    "    labels = np.zeros(x1.shape)\n",
    "    labels_centroids = np.ones(centroids1.shape) * 100\n",
    "    \n",
    "    x1 = np.concatenate((x1, centroids1))\n",
    "    x2 = np.concatenate((x2, centroids2))\n",
    "    labels = np.concatenate((labels, labels_centroids))\n",
    "    plt.figure(figsize=(6,6))\n",
    "    plt.scatter(x=x1, y=x2, c=labels, cmap=plt.cm.bwr)\n",
    "    plt.show()"
   ]
  },
  {
   "cell_type": "code",
   "execution_count": 5,
   "metadata": {
    "collapsed": true
   },
   "outputs": [],
   "source": [
    "def plot_kmeans(x1, x2, centroids1, centroids2, labels):\n",
    "    non_centroid_labels = np.zeros(x1.shape)\n",
    "    centroid_labels = np.ones(centroids1.shape)\n",
    "\n",
    "    x1_centroids = np.concatenate((x1, centroids1))\n",
    "    x2_centroids = np.concatenate((x2, centroids2))\n",
    "    centroid_labels = np.concatenate((non_centroid_labels, centroid_labels))\n",
    "    \n",
    "    plt.figure(figsize=(20,6))\n",
    "    plt.subplot(121)\n",
    "    plt.scatter(x=x1, y=x2, c=labels, cmap=plt.cm.gist_rainbow)\n",
    "    plt.subplot(122)\n",
    "    plt.scatter(x=x1_centroids, y=x2_centroids, c=centroid_labels, cmap=plt.cm.bwr)\n",
    "    plt.show()"
   ]
  },
  {
   "cell_type": "code",
   "execution_count": 6,
   "metadata": {
    "collapsed": true
   },
   "outputs": [],
   "source": [
    "def display_iris(X, y):\n",
    "    no_samples, no_features = X.shape\n",
    "    feature_names = [\"Sepal Length\", \"Sepal Width\", \"Petal Length\", \"Petal Width\", \"Flower Type\"]\n",
    "    space_before = 30\n",
    "    column_space = len(max(feature_names, key=lambda x: len(x)))\n",
    "    body = \"\"\n",
    "    body += \" \" * space_before\n",
    "    for feature in feature_names:\n",
    "        body += \" | \"\n",
    "        body += feature\n",
    "        body += \" \" * (column_space - len(feature))\n",
    "    body += \" |\\n\"\n",
    "    for _ in range(space_before + len(feature_names) * column_space + (len(feature_names) + 1) * 3):\n",
    "        body += \"-\"\n",
    "    body += \"\\n\"\n",
    "    for i in range(no_samples):\n",
    "        flower_no = \"Flower number {0} at index {1}\".format(i + 1, i)\n",
    "        body += flower_no\n",
    "        body += \" \" * (space_before - len(flower_no))\n",
    "        for j in range(4):\n",
    "            body += \" | \"\n",
    "            current_cell = str(X[i, j])\n",
    "            body += current_cell\n",
    "            body += \" \" * (column_space - len(current_cell))\n",
    "        body += \" | \"\n",
    "        if y[i] == 0:\n",
    "            current = \"Setosa\"\n",
    "        elif y[i] == 1:\n",
    "            current = \"Versicolour\"\n",
    "        else:\n",
    "            current = \"Virginica\"\n",
    "        body += current\n",
    "        body += \" \" * (column_space - len(current))\n",
    "        body += \" |\\n\"\n",
    "    print(body)"
   ]
  },
  {
   "cell_type": "markdown",
   "metadata": {},
   "source": [
    "# What is a matrix / a 2D array?\n",
    "\n",
    "You can think of a matrix as a grid of numbers (or an ordered collection of vectors). <br />\n",
    "In python, they can be represented as list of lists of numbers (arrays). <br /><br />\n"
   ]
  },
  {
   "cell_type": "code",
   "execution_count": 7,
   "metadata": {},
   "outputs": [],
   "source": [
    "# Play with python and numpy matrices here"
   ]
  },
  {
   "cell_type": "markdown",
   "metadata": {},
   "source": [
    "# Let's play with some actual data\n",
    "\n",
    "The dataset we are going to look at is the Iris dataset: <br />\n",
    "\n",
    "* Every row represents a different flower.\n",
    "* Every column represents a different **feature** for that flower\n",
    "\n",
    "The features (columns) reprsent the Sepal Length, Sepal Width, Petal Length and Petal Width for each flower. <br />\n",
    "<br />\n",
    "Each flower is one of three different types: Setosa, Versicolour, and Virginica. <br />"
   ]
  },
  {
   "cell_type": "code",
   "execution_count": 8,
   "metadata": {
    "collapsed": true
   },
   "outputs": [],
   "source": [
    "iris = load_iris()\n",
    "X = iris.data\n",
    "y = iris.target"
   ]
  },
  {
   "cell_type": "code",
   "execution_count": 9,
   "metadata": {},
   "outputs": [
    {
     "name": "stdout",
     "output_type": "stream",
     "text": [
      "                               | Sepal Length | Sepal Width  | Petal Length | Petal Width  | Flower Type  |\n",
      "------------------------------------------------------------------------------------------------------------\n",
      "Flower number 1 at index 0     | 5.1          | 3.5          | 1.4          | 0.2          | Setosa       |\n",
      "Flower number 2 at index 1     | 4.9          | 3.0          | 1.4          | 0.2          | Setosa       |\n",
      "Flower number 3 at index 2     | 4.7          | 3.2          | 1.3          | 0.2          | Setosa       |\n",
      "Flower number 4 at index 3     | 4.6          | 3.1          | 1.5          | 0.2          | Setosa       |\n",
      "Flower number 5 at index 4     | 5.0          | 3.6          | 1.4          | 0.2          | Setosa       |\n",
      "Flower number 6 at index 5     | 5.4          | 3.9          | 1.7          | 0.4          | Setosa       |\n",
      "Flower number 7 at index 6     | 4.6          | 3.4          | 1.4          | 0.3          | Setosa       |\n",
      "Flower number 8 at index 7     | 5.0          | 3.4          | 1.5          | 0.2          | Setosa       |\n",
      "Flower number 9 at index 8     | 4.4          | 2.9          | 1.4          | 0.2          | Setosa       |\n",
      "Flower number 10 at index 9    | 4.9          | 3.1          | 1.5          | 0.1          | Setosa       |\n",
      "Flower number 11 at index 10   | 5.4          | 3.7          | 1.5          | 0.2          | Setosa       |\n",
      "Flower number 12 at index 11   | 4.8          | 3.4          | 1.6          | 0.2          | Setosa       |\n",
      "Flower number 13 at index 12   | 4.8          | 3.0          | 1.4          | 0.1          | Setosa       |\n",
      "Flower number 14 at index 13   | 4.3          | 3.0          | 1.1          | 0.1          | Setosa       |\n",
      "Flower number 15 at index 14   | 5.8          | 4.0          | 1.2          | 0.2          | Setosa       |\n",
      "Flower number 16 at index 15   | 5.7          | 4.4          | 1.5          | 0.4          | Setosa       |\n",
      "Flower number 17 at index 16   | 5.4          | 3.9          | 1.3          | 0.4          | Setosa       |\n",
      "Flower number 18 at index 17   | 5.1          | 3.5          | 1.4          | 0.3          | Setosa       |\n",
      "Flower number 19 at index 18   | 5.7          | 3.8          | 1.7          | 0.3          | Setosa       |\n",
      "Flower number 20 at index 19   | 5.1          | 3.8          | 1.5          | 0.3          | Setosa       |\n",
      "Flower number 21 at index 20   | 5.4          | 3.4          | 1.7          | 0.2          | Setosa       |\n",
      "Flower number 22 at index 21   | 5.1          | 3.7          | 1.5          | 0.4          | Setosa       |\n",
      "Flower number 23 at index 22   | 4.6          | 3.6          | 1.0          | 0.2          | Setosa       |\n",
      "Flower number 24 at index 23   | 5.1          | 3.3          | 1.7          | 0.5          | Setosa       |\n",
      "Flower number 25 at index 24   | 4.8          | 3.4          | 1.9          | 0.2          | Setosa       |\n",
      "Flower number 26 at index 25   | 5.0          | 3.0          | 1.6          | 0.2          | Setosa       |\n",
      "Flower number 27 at index 26   | 5.0          | 3.4          | 1.6          | 0.4          | Setosa       |\n",
      "Flower number 28 at index 27   | 5.2          | 3.5          | 1.5          | 0.2          | Setosa       |\n",
      "Flower number 29 at index 28   | 5.2          | 3.4          | 1.4          | 0.2          | Setosa       |\n",
      "Flower number 30 at index 29   | 4.7          | 3.2          | 1.6          | 0.2          | Setosa       |\n",
      "Flower number 31 at index 30   | 4.8          | 3.1          | 1.6          | 0.2          | Setosa       |\n",
      "Flower number 32 at index 31   | 5.4          | 3.4          | 1.5          | 0.4          | Setosa       |\n",
      "Flower number 33 at index 32   | 5.2          | 4.1          | 1.5          | 0.1          | Setosa       |\n",
      "Flower number 34 at index 33   | 5.5          | 4.2          | 1.4          | 0.2          | Setosa       |\n",
      "Flower number 35 at index 34   | 4.9          | 3.1          | 1.5          | 0.1          | Setosa       |\n",
      "Flower number 36 at index 35   | 5.0          | 3.2          | 1.2          | 0.2          | Setosa       |\n",
      "Flower number 37 at index 36   | 5.5          | 3.5          | 1.3          | 0.2          | Setosa       |\n",
      "Flower number 38 at index 37   | 4.9          | 3.1          | 1.5          | 0.1          | Setosa       |\n",
      "Flower number 39 at index 38   | 4.4          | 3.0          | 1.3          | 0.2          | Setosa       |\n",
      "Flower number 40 at index 39   | 5.1          | 3.4          | 1.5          | 0.2          | Setosa       |\n",
      "Flower number 41 at index 40   | 5.0          | 3.5          | 1.3          | 0.3          | Setosa       |\n",
      "Flower number 42 at index 41   | 4.5          | 2.3          | 1.3          | 0.3          | Setosa       |\n",
      "Flower number 43 at index 42   | 4.4          | 3.2          | 1.3          | 0.2          | Setosa       |\n",
      "Flower number 44 at index 43   | 5.0          | 3.5          | 1.6          | 0.6          | Setosa       |\n",
      "Flower number 45 at index 44   | 5.1          | 3.8          | 1.9          | 0.4          | Setosa       |\n",
      "Flower number 46 at index 45   | 4.8          | 3.0          | 1.4          | 0.3          | Setosa       |\n",
      "Flower number 47 at index 46   | 5.1          | 3.8          | 1.6          | 0.2          | Setosa       |\n",
      "Flower number 48 at index 47   | 4.6          | 3.2          | 1.4          | 0.2          | Setosa       |\n",
      "Flower number 49 at index 48   | 5.3          | 3.7          | 1.5          | 0.2          | Setosa       |\n",
      "Flower number 50 at index 49   | 5.0          | 3.3          | 1.4          | 0.2          | Setosa       |\n",
      "Flower number 51 at index 50   | 7.0          | 3.2          | 4.7          | 1.4          | Versicolour  |\n",
      "Flower number 52 at index 51   | 6.4          | 3.2          | 4.5          | 1.5          | Versicolour  |\n",
      "Flower number 53 at index 52   | 6.9          | 3.1          | 4.9          | 1.5          | Versicolour  |\n",
      "Flower number 54 at index 53   | 5.5          | 2.3          | 4.0          | 1.3          | Versicolour  |\n",
      "Flower number 55 at index 54   | 6.5          | 2.8          | 4.6          | 1.5          | Versicolour  |\n",
      "Flower number 56 at index 55   | 5.7          | 2.8          | 4.5          | 1.3          | Versicolour  |\n",
      "Flower number 57 at index 56   | 6.3          | 3.3          | 4.7          | 1.6          | Versicolour  |\n",
      "Flower number 58 at index 57   | 4.9          | 2.4          | 3.3          | 1.0          | Versicolour  |\n",
      "Flower number 59 at index 58   | 6.6          | 2.9          | 4.6          | 1.3          | Versicolour  |\n",
      "Flower number 60 at index 59   | 5.2          | 2.7          | 3.9          | 1.4          | Versicolour  |\n",
      "Flower number 61 at index 60   | 5.0          | 2.0          | 3.5          | 1.0          | Versicolour  |\n",
      "Flower number 62 at index 61   | 5.9          | 3.0          | 4.2          | 1.5          | Versicolour  |\n",
      "Flower number 63 at index 62   | 6.0          | 2.2          | 4.0          | 1.0          | Versicolour  |\n",
      "Flower number 64 at index 63   | 6.1          | 2.9          | 4.7          | 1.4          | Versicolour  |\n",
      "Flower number 65 at index 64   | 5.6          | 2.9          | 3.6          | 1.3          | Versicolour  |\n",
      "Flower number 66 at index 65   | 6.7          | 3.1          | 4.4          | 1.4          | Versicolour  |\n",
      "Flower number 67 at index 66   | 5.6          | 3.0          | 4.5          | 1.5          | Versicolour  |\n",
      "Flower number 68 at index 67   | 5.8          | 2.7          | 4.1          | 1.0          | Versicolour  |\n",
      "Flower number 69 at index 68   | 6.2          | 2.2          | 4.5          | 1.5          | Versicolour  |\n",
      "Flower number 70 at index 69   | 5.6          | 2.5          | 3.9          | 1.1          | Versicolour  |\n",
      "Flower number 71 at index 70   | 5.9          | 3.2          | 4.8          | 1.8          | Versicolour  |\n",
      "Flower number 72 at index 71   | 6.1          | 2.8          | 4.0          | 1.3          | Versicolour  |\n",
      "Flower number 73 at index 72   | 6.3          | 2.5          | 4.9          | 1.5          | Versicolour  |\n",
      "Flower number 74 at index 73   | 6.1          | 2.8          | 4.7          | 1.2          | Versicolour  |\n",
      "Flower number 75 at index 74   | 6.4          | 2.9          | 4.3          | 1.3          | Versicolour  |\n",
      "Flower number 76 at index 75   | 6.6          | 3.0          | 4.4          | 1.4          | Versicolour  |\n",
      "Flower number 77 at index 76   | 6.8          | 2.8          | 4.8          | 1.4          | Versicolour  |\n",
      "Flower number 78 at index 77   | 6.7          | 3.0          | 5.0          | 1.7          | Versicolour  |\n",
      "Flower number 79 at index 78   | 6.0          | 2.9          | 4.5          | 1.5          | Versicolour  |\n",
      "Flower number 80 at index 79   | 5.7          | 2.6          | 3.5          | 1.0          | Versicolour  |\n",
      "Flower number 81 at index 80   | 5.5          | 2.4          | 3.8          | 1.1          | Versicolour  |\n",
      "Flower number 82 at index 81   | 5.5          | 2.4          | 3.7          | 1.0          | Versicolour  |\n",
      "Flower number 83 at index 82   | 5.8          | 2.7          | 3.9          | 1.2          | Versicolour  |\n",
      "Flower number 84 at index 83   | 6.0          | 2.7          | 5.1          | 1.6          | Versicolour  |\n",
      "Flower number 85 at index 84   | 5.4          | 3.0          | 4.5          | 1.5          | Versicolour  |\n",
      "Flower number 86 at index 85   | 6.0          | 3.4          | 4.5          | 1.6          | Versicolour  |\n",
      "Flower number 87 at index 86   | 6.7          | 3.1          | 4.7          | 1.5          | Versicolour  |\n",
      "Flower number 88 at index 87   | 6.3          | 2.3          | 4.4          | 1.3          | Versicolour  |\n",
      "Flower number 89 at index 88   | 5.6          | 3.0          | 4.1          | 1.3          | Versicolour  |\n",
      "Flower number 90 at index 89   | 5.5          | 2.5          | 4.0          | 1.3          | Versicolour  |\n",
      "Flower number 91 at index 90   | 5.5          | 2.6          | 4.4          | 1.2          | Versicolour  |\n",
      "Flower number 92 at index 91   | 6.1          | 3.0          | 4.6          | 1.4          | Versicolour  |\n",
      "Flower number 93 at index 92   | 5.8          | 2.6          | 4.0          | 1.2          | Versicolour  |\n",
      "Flower number 94 at index 93   | 5.0          | 2.3          | 3.3          | 1.0          | Versicolour  |\n",
      "Flower number 95 at index 94   | 5.6          | 2.7          | 4.2          | 1.3          | Versicolour  |\n",
      "Flower number 96 at index 95   | 5.7          | 3.0          | 4.2          | 1.2          | Versicolour  |\n",
      "Flower number 97 at index 96   | 5.7          | 2.9          | 4.2          | 1.3          | Versicolour  |\n",
      "Flower number 98 at index 97   | 6.2          | 2.9          | 4.3          | 1.3          | Versicolour  |\n",
      "Flower number 99 at index 98   | 5.1          | 2.5          | 3.0          | 1.1          | Versicolour  |\n",
      "Flower number 100 at index 99  | 5.7          | 2.8          | 4.1          | 1.3          | Versicolour  |\n",
      "Flower number 101 at index 100 | 6.3          | 3.3          | 6.0          | 2.5          | Virginica    |\n",
      "Flower number 102 at index 101 | 5.8          | 2.7          | 5.1          | 1.9          | Virginica    |\n",
      "Flower number 103 at index 102 | 7.1          | 3.0          | 5.9          | 2.1          | Virginica    |\n",
      "Flower number 104 at index 103 | 6.3          | 2.9          | 5.6          | 1.8          | Virginica    |\n",
      "Flower number 105 at index 104 | 6.5          | 3.0          | 5.8          | 2.2          | Virginica    |\n",
      "Flower number 106 at index 105 | 7.6          | 3.0          | 6.6          | 2.1          | Virginica    |\n",
      "Flower number 107 at index 106 | 4.9          | 2.5          | 4.5          | 1.7          | Virginica    |\n",
      "Flower number 108 at index 107 | 7.3          | 2.9          | 6.3          | 1.8          | Virginica    |\n",
      "Flower number 109 at index 108 | 6.7          | 2.5          | 5.8          | 1.8          | Virginica    |\n",
      "Flower number 110 at index 109 | 7.2          | 3.6          | 6.1          | 2.5          | Virginica    |\n",
      "Flower number 111 at index 110 | 6.5          | 3.2          | 5.1          | 2.0          | Virginica    |\n",
      "Flower number 112 at index 111 | 6.4          | 2.7          | 5.3          | 1.9          | Virginica    |\n",
      "Flower number 113 at index 112 | 6.8          | 3.0          | 5.5          | 2.1          | Virginica    |\n",
      "Flower number 114 at index 113 | 5.7          | 2.5          | 5.0          | 2.0          | Virginica    |\n",
      "Flower number 115 at index 114 | 5.8          | 2.8          | 5.1          | 2.4          | Virginica    |\n",
      "Flower number 116 at index 115 | 6.4          | 3.2          | 5.3          | 2.3          | Virginica    |\n",
      "Flower number 117 at index 116 | 6.5          | 3.0          | 5.5          | 1.8          | Virginica    |\n",
      "Flower number 118 at index 117 | 7.7          | 3.8          | 6.7          | 2.2          | Virginica    |\n",
      "Flower number 119 at index 118 | 7.7          | 2.6          | 6.9          | 2.3          | Virginica    |\n",
      "Flower number 120 at index 119 | 6.0          | 2.2          | 5.0          | 1.5          | Virginica    |\n",
      "Flower number 121 at index 120 | 6.9          | 3.2          | 5.7          | 2.3          | Virginica    |\n",
      "Flower number 122 at index 121 | 5.6          | 2.8          | 4.9          | 2.0          | Virginica    |\n",
      "Flower number 123 at index 122 | 7.7          | 2.8          | 6.7          | 2.0          | Virginica    |\n",
      "Flower number 124 at index 123 | 6.3          | 2.7          | 4.9          | 1.8          | Virginica    |\n",
      "Flower number 125 at index 124 | 6.7          | 3.3          | 5.7          | 2.1          | Virginica    |\n",
      "Flower number 126 at index 125 | 7.2          | 3.2          | 6.0          | 1.8          | Virginica    |\n",
      "Flower number 127 at index 126 | 6.2          | 2.8          | 4.8          | 1.8          | Virginica    |\n",
      "Flower number 128 at index 127 | 6.1          | 3.0          | 4.9          | 1.8          | Virginica    |\n",
      "Flower number 129 at index 128 | 6.4          | 2.8          | 5.6          | 2.1          | Virginica    |\n",
      "Flower number 130 at index 129 | 7.2          | 3.0          | 5.8          | 1.6          | Virginica    |\n",
      "Flower number 131 at index 130 | 7.4          | 2.8          | 6.1          | 1.9          | Virginica    |\n",
      "Flower number 132 at index 131 | 7.9          | 3.8          | 6.4          | 2.0          | Virginica    |\n",
      "Flower number 133 at index 132 | 6.4          | 2.8          | 5.6          | 2.2          | Virginica    |\n",
      "Flower number 134 at index 133 | 6.3          | 2.8          | 5.1          | 1.5          | Virginica    |\n",
      "Flower number 135 at index 134 | 6.1          | 2.6          | 5.6          | 1.4          | Virginica    |\n",
      "Flower number 136 at index 135 | 7.7          | 3.0          | 6.1          | 2.3          | Virginica    |\n",
      "Flower number 137 at index 136 | 6.3          | 3.4          | 5.6          | 2.4          | Virginica    |\n",
      "Flower number 138 at index 137 | 6.4          | 3.1          | 5.5          | 1.8          | Virginica    |\n",
      "Flower number 139 at index 138 | 6.0          | 3.0          | 4.8          | 1.8          | Virginica    |\n",
      "Flower number 140 at index 139 | 6.9          | 3.1          | 5.4          | 2.1          | Virginica    |\n",
      "Flower number 141 at index 140 | 6.7          | 3.1          | 5.6          | 2.4          | Virginica    |\n",
      "Flower number 142 at index 141 | 6.9          | 3.1          | 5.1          | 2.3          | Virginica    |\n",
      "Flower number 143 at index 142 | 5.8          | 2.7          | 5.1          | 1.9          | Virginica    |\n",
      "Flower number 144 at index 143 | 6.8          | 3.2          | 5.9          | 2.3          | Virginica    |\n",
      "Flower number 145 at index 144 | 6.7          | 3.3          | 5.7          | 2.5          | Virginica    |\n",
      "Flower number 146 at index 145 | 6.7          | 3.0          | 5.2          | 2.3          | Virginica    |\n",
      "Flower number 147 at index 146 | 6.3          | 2.5          | 5.0          | 1.9          | Virginica    |\n",
      "Flower number 148 at index 147 | 6.5          | 3.0          | 5.2          | 2.0          | Virginica    |\n",
      "Flower number 149 at index 148 | 6.2          | 3.4          | 5.4          | 2.3          | Virginica    |\n",
      "Flower number 150 at index 149 | 5.9          | 3.0          | 5.1          | 1.8          | Virginica    |\n",
      "\n"
     ]
    }
   ],
   "source": [
    "display_iris(X, y)"
   ]
  },
  {
   "cell_type": "code",
   "execution_count": 10,
   "metadata": {
    "scrolled": false
   },
   "outputs": [],
   "source": [
    "# Try getting only the petal features (columns) here"
   ]
  },
  {
   "cell_type": "code",
   "execution_count": 11,
   "metadata": {},
   "outputs": [],
   "source": [
    "# Let's plot them (using plot_scatter())"
   ]
  },
  {
   "cell_type": "markdown",
   "metadata": {
    "collapsed": true
   },
   "source": [
    "## What if we don't know what the type for every flower is?\n",
    "## Let's try _clustering_ the data\n",
    "Clustering is a method of grouping data points in different groups, called **clusters**. <br />\n",
    "Data points in the same cluster are \"similar\" to one another."
   ]
  },
  {
   "cell_type": "markdown",
   "metadata": {},
   "source": [
    "## Algorithm: K-means clustering\n",
    "1. Find a measure of \"similarity\" for points (rows) in the data (e.g. distance between each row) \n",
    "2. Choose how many clusters do you want to divide the data in, e. g. _k_\n",
    "3. Select _k_ random points from the data, we'll call these cluster _centroids_\n",
    "4. Repeat the following steps many times: <br />\n",
    "    a. For each point (row) in the data, assign/label it with the _centroid_ it is closest to &rarr; Each point will be labeled to the _centroid_ it is closest to <br />\n",
    "    b. For each _centroid_: take all points assigned to it in step **a** and find the mean of these points &rarr; This new point will be the new _centroid_ <br />\n",
    "5. At the end, the points assigned to each _centroid_ will belong to a different cluster."
   ]
  },
  {
   "cell_type": "markdown",
   "metadata": {},
   "source": [
    "### 1. Finding a measure of similarity between two data points"
   ]
  },
  {
   "cell_type": "code",
   "execution_count": 12,
   "metadata": {},
   "outputs": [],
   "source": [
    "# Write function to measure \"similarity\" here"
   ]
  },
  {
   "cell_type": "markdown",
   "metadata": {},
   "source": [
    "### 2. Choosing how many clusters do you want to divide the data in "
   ]
  },
  {
   "cell_type": "code",
   "execution_count": 13,
   "metadata": {
    "collapsed": true
   },
   "outputs": [],
   "source": [
    "# Choose the number of clusters"
   ]
  },
  {
   "cell_type": "markdown",
   "metadata": {},
   "source": [
    "### 3. Select _k_ random points from the data"
   ]
  },
  {
   "cell_type": "code",
   "execution_count": 14,
   "metadata": {
    "collapsed": true
   },
   "outputs": [],
   "source": [
    "# Write the funciton to initialize the centroids here"
   ]
  },
  {
   "cell_type": "markdown",
   "metadata": {},
   "source": [
    "### 4. Repeating the following:\n",
    "#### a. Label each point to a centroid"
   ]
  },
  {
   "cell_type": "code",
   "execution_count": 15,
   "metadata": {
    "collapsed": true
   },
   "outputs": [],
   "source": [
    "# Write the function to label each point in the data here"
   ]
  },
  {
   "cell_type": "markdown",
   "metadata": {},
   "source": [
    "#### b. Find new centroids from mean of labeled points"
   ]
  },
  {
   "cell_type": "code",
   "execution_count": 16,
   "metadata": {},
   "outputs": [],
   "source": [
    "# Write the function to find new centroids by finding the mean of the labeled points"
   ]
  },
  {
   "cell_type": "markdown",
   "metadata": {},
   "source": [
    "### Putting it all together"
   ]
  },
  {
   "cell_type": "code",
   "execution_count": 17,
   "metadata": {
    "collapsed": true
   },
   "outputs": [],
   "source": [
    "# Write the function to cluster a matrix of data by using the ones you just wrote\n",
    "\n",
    "def k_means(matrix, n):\n",
    "    pass"
   ]
  },
  {
   "cell_type": "code",
   "execution_count": null,
   "metadata": {
    "collapsed": true
   },
   "outputs": [],
   "source": []
  }
 ],
 "metadata": {
  "kernelspec": {
   "display_name": "Python 3",
   "language": "python",
   "name": "python3"
  },
  "language_info": {
   "codemirror_mode": {
    "name": "ipython",
    "version": 3
   },
   "file_extension": ".py",
   "mimetype": "text/x-python",
   "name": "python",
   "nbconvert_exporter": "python",
   "pygments_lexer": "ipython3",
   "version": "3.6.1"
  }
 },
 "nbformat": 4,
 "nbformat_minor": 2
}
